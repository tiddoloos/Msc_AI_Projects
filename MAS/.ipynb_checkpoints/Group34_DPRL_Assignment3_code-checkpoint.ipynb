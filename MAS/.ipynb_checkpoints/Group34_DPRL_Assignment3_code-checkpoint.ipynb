{
 "cells": [
  {
   "cell_type": "code",
   "execution_count": 30,
   "metadata": {
    "id": "s6sMXkfRlnPZ"
   },
   "outputs": [],
   "source": [
    "\"\"\"\n",
    "DPRL - Assignment 3\n",
    "Group 34 - Melle Meewis & Xandra Vos \n",
    "\"\"\"\n",
    "\n",
    "import numpy as np\n",
    "import seaborn as sns; sns.set()\n",
    "import matplotlib.pyplot as plt\n",
    "import copy"
   ]
  },
  {
   "cell_type": "code",
   "execution_count": 26,
   "metadata": {
    "id": "4zvFnEUol19Y"
   },
   "outputs": [],
   "source": [
    "class MCTS():\n",
    "  def __init__(self, player, turn, start=[]):\n",
    "    self.player = player\n",
    "    self.root = Node(player=turn, state=start, parent=None, layer=0)\n",
    "    self.nodes = {}\n",
    "\n",
    "  def tree_search(self, iterations=10000):\n",
    "    ucb_root = []\n",
    "    current_node = self.root\n",
    "    for i in range(iterations):\n",
    "        # selection phase\n",
    "        ucb_root_this_iter = [child.calculate_ucb() for child in self.root.children]\n",
    "        ucb_root.append(ucb_root_this_iter)\n",
    "        while current_node.children:\n",
    "            current_node = current_node.select(self.player)\n",
    "\n",
    "        # expansion phase\n",
    "        if current_node.visits > 0 or i == 0:\n",
    "            self.nodes[current_node] = current_node.expand()\n",
    "            if current_node.children:\n",
    "              current_node = current_node.select(self.player)\n",
    "\n",
    "        # simulate\n",
    "        winner = current_node.simulate()\n",
    "        current_node = current_node.back_propagate(self.player, winner)\n",
    "    return ucb_root"
   ]
  },
  {
   "cell_type": "code",
   "execution_count": 27,
   "metadata": {
    "id": "jqkGL4pipfcT"
   },
   "outputs": [],
   "source": [
    "class Node():\n",
    "  def __init__(self, player, state, parent, layer):\n",
    "    self.layer = layer\n",
    "    self.visits = 0\n",
    "    self.winner = 0\n",
    "    self.current_player = player\n",
    "    self.state = state\n",
    "    self.parent = parent\n",
    "    self.children = []\n",
    "\n",
    "  def select(self, player):\n",
    "    if self.current_player == player:\n",
    "        ucbs = [c.calculate_ucb() for c in self.children]\n",
    "        max_child = self.children[ucbs.index(max(ucbs))]\n",
    "        return max_child\n",
    "    else:\n",
    "        return np.random.choice(self.children)\n",
    "\n",
    "\n",
    "  def expand(self):\n",
    "    possible_actions = self.possible_actions(self.state)\n",
    "    for move in possible_actions:\n",
    "        state = copy.deepcopy(self.state)\n",
    "        state.append(move)\n",
    "        if self.current_player == 'crosses':\n",
    "          self.children.append(Node(player='circles', state=state, parent=self, layer=self.layer+1))\n",
    "        else:\n",
    "          self.children.append(Node(player='crosses', state=state, parent=self, layer=self.layer+1))\n",
    "    return self.children\n",
    "\n",
    "  def simulate(self):\n",
    "    state = copy.deepcopy(self.state)\n",
    "    available_moves = self.possible_actions(state)\n",
    "    win = self.check_winner(state)\n",
    "    while len(available_moves) > 0 and win == 0:\n",
    "        move = np.random.choice(available_moves)\n",
    "        state.append(move)\n",
    "        win = self.check_winner(state)\n",
    "        available_moves = self.possible_actions(state)\n",
    "\n",
    "    win = self.check_winner(state)\n",
    "\n",
    "    return win\n",
    "\n",
    "  def back_propagate(self, player, player_won):\n",
    "    self.visits += 1\n",
    "    if player == player_won:\n",
    "        self.winner += 1\n",
    "    if self.parent:\n",
    "        node = self.parent.back_propagate(player, player_won)\n",
    "    else:\n",
    "        node = self\n",
    "    return node\n",
    "\n",
    "  def calculate_ucb(self):\n",
    "    if self.parent and self.visits > 0:\n",
    "        ucb_exploitation = self.winner/self.visits\n",
    "        ucb_exploration = np.sqrt(2)*np.sqrt(np.log(self.parent.visits) / self.visits)\n",
    "        ucb_calculated = ucb_exploitation + ucb_exploration\n",
    "        return ucb_calculated\n",
    "    else:\n",
    "        return 100000\n",
    "\n",
    "  def possible_actions(self, state):\n",
    "    actions = [i for i in range(1, 10) if i not in state]\n",
    "    return actions\n",
    "\n",
    "\n",
    "  def check_winner(self, state):\n",
    "    winning_combinations = [[1,2,3], [4,5,6], [7,8,9], # horizontal wins\n",
    "                            [1,4,7], [2,5,8], [3,6,9], # vertical wins\n",
    "                            [1,5,9], [3,5,7]] #diagonal wins\n",
    "    crosses = state[::2] \n",
    "    circles = state[1::2]\n",
    "    for combination in winning_combinations:\n",
    "      if all(elem in crosses for elem in combination):\n",
    "            return 'crosses'\n",
    "      if all(elem in circles for elem in combination):\n",
    "            return 'circles'\n",
    "\n",
    "    return 0\n",
    "\n",
    "  def __str__(self):\n",
    "    s = 'State: ' + str(self.state) + ' Actions: ' + str(self.possible_actions(self.state))\n",
    "    return s"
   ]
  },
  {
   "cell_type": "code",
   "execution_count": 28,
   "metadata": {
    "id": "dnKdENcO2t59"
   },
   "outputs": [],
   "source": [
    "def plot_convergence(ucb):\n",
    "  mean = np.array([np.mean(it) for it in ucb])\n",
    "\n",
    "  plt.plot(range(len(mean)), mean)\n",
    "  plt.xlabel('Iteration')\n",
    "  plt.ylabel('Convergence')\n",
    "  plt.ylim(0,1.5)\n",
    "  plt.show()"
   ]
  },
  {
   "cell_type": "code",
   "execution_count": 29,
   "metadata": {
    "colab": {
     "base_uri": "https://localhost:8080/",
     "height": 604
    },
    "id": "G6rLc0GLdzPV",
    "outputId": "4f057c29-6655-41c0-b81a-4e982f61b05f"
   },
   "outputs": [
    {
     "name": "stderr",
     "output_type": "stream",
     "text": [
      "/usr/local/lib/python3.6/dist-packages/numpy/core/fromnumeric.py:3335: RuntimeWarning: Mean of empty slice.\n",
      "  out=out, **kwargs)\n",
      "/usr/local/lib/python3.6/dist-packages/numpy/core/_methods.py:161: RuntimeWarning: invalid value encountered in double_scalars\n",
      "  ret = ret.dtype.type(ret / rcount)\n"
     ]
    },
    {
     "data": {
      "image/png": "[encoded data removed]",
      "text/plain": [
       "<Figure size 432x288 with 1 Axes>"
      ]
     },
     "metadata": {
      "tags": []
     },
     "output_type": "display_data"
    },
    {
     "data": {
      "image/png": "[encoded data removed]",
      "text/plain": [
       "<Figure size 432x288 with 2 Axes>"
      ]
     },
     "metadata": {
      "tags": []
     },
     "output_type": "display_data"
    }
   ],
   "source": [
    "# start_position = [3,2,5,7]\n",
    "start_position = []\n",
    "mcts = MCTS(player='crosses', turn='crosses', start=start_position)\n",
    "ucb_root = mcts.tree_search(iterations=30000)\n",
    "plot_convergence(ucb_root)\n",
    "heatmap = np.zeros(9)\n",
    "for i, node in enumerate(mcts.root.children):\n",
    "  heatmap[node.state[-1]-1] = node.winner/node.visits\n",
    "heatmap = np.reshape(heatmap, (3,3))\n",
    "sns.heatmap(heatmap, annot=True)\n",
    "plt.show()"
   ]
  },
  {
   "cell_type": "code",
   "execution_count": null,
   "metadata": {
    "id": "BX63jevUeZyR"
   },
   "outputs": [],
   "source": []
  }
 ],
 "metadata": {
  "accelerator": "GPU",
  "colab": {
   "collapsed_sections": [],
   "name": "DP&RL_Assignment3.ipynb",
   "provenance": []
  },
  "kernelspec": {
   "display_name": "Python 3",
   "language": "python",
   "name": "python3"
  },
  "language_info": {
   "codemirror_mode": {
    "name": "ipython",
    "version": 3
   },
   "file_extension": ".py",
   "mimetype": "text/x-python",
   "name": "python",
   "nbconvert_exporter": "python",
   "pygments_lexer": "ipython3",
   "version": "3.8.5"
  }
 },
 "nbformat": 4,
 "nbformat_minor": 1
}
