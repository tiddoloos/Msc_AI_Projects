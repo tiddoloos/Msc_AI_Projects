{
 "cells": [
  {
   "cell_type": "code",
   "execution_count": 42,
   "metadata": {},
   "outputs": [],
   "source": [
    "from _context import vugrad\n",
    "import numpy as np\n",
    "from argparse import ArgumentParser\n",
    "import vugrad as vg\n",
    "import matplotlib.pyplot as plt"
   ]
  },
  {
   "cell_type": "code",
   "execution_count": 43,
   "metadata": {},
   "outputs": [
    {
     "name": "stdout",
     "output_type": "stream",
     "text": [
      "## loaded data:\n",
      "         number of instances: 55000 in training, 5000 in validation\n",
      " training class distribution: [5434 6212 5465 5622 5343 4963 5436 5702 5357 5466]\n",
      "     val. class distribution: [489 530 493 509 499 458 482 563 494 483]\n"
     ]
    }
   ],
   "source": [
    "(xtrain, ytrain), (xval, yval), num_classes = vg.load_mnist(final=False, flatten=True)\n",
    "\n",
    "print(f'## loaded data:')\n",
    "print(f'         number of instances: {xtrain.shape[0]} in training, {xval.shape[0]} in validation')\n",
    "print(f' training class distribution: {np.bincount(ytrain)}')\n",
    "print(f'     val. class distribution: {np.bincount(yval)}')\n",
    "\n",
    "xtrain = xtrain/255\n",
    "xval = xval/255\n",
    "\n",
    "num_instances, num_features = xtrain.shape"
   ]
  },
  {
   "cell_type": "code",
   "execution_count": 44,
   "metadata": {},
   "outputs": [],
   "source": [
    "class MLP(vg.Module):\n",
    "    def __init__(self, input_size, output_size, layer=False, hidden_mult=4,):\n",
    "        self.layer = layer\n",
    "        self.hidden_size = hidden_mult * input_size\n",
    "        self.layer1 = vg.Linear(input_size, self.hidden_size)\n",
    "\n",
    "        # if self.layer == True:\n",
    "        self.layer1_5 = vg.Linear(self.hidden_size, self.hidden_size)\n",
    "        self.layer2 = vg.Linear(self.hidden_size, output_size)\n",
    "\n",
    "    def forward(self, input):\n",
    "\n",
    "        assert len(input.size()) == 2\n",
    "\n",
    "        # first layer\n",
    "        hidden = self.layer1(input)\n",
    "        # non-linearity\n",
    "        hidden = vg.sigmoid(hidden)\n",
    "\n",
    "        if self.layer == True:\n",
    "            hidden = self.layer1_5(hidden)\n",
    "            hidden = vg.sigmoid(hidden)\n",
    "\n",
    "        # second layer\n",
    "        output = self.layer2(hidden)\n",
    "\n",
    "        # softmax activation\n",
    "        output = vg.logsoftmax(output)\n",
    "        return output\n",
    "\n",
    "    def parameters(self):\n",
    "        if self.layer:\n",
    "            return self.layer1.parameters() + self.layer1_5.parameters() + self.layer2.parameters()\n",
    "        else:\n",
    "            return self.layer1.parameters() + self.layer2.parameters()"
   ]
  },
  {
   "cell_type": "code",
   "execution_count": 45,
   "metadata": {},
   "outputs": [
    {
     "name": "stdout",
     "output_type": "stream",
     "text": [
      "Layer = true\n",
      "\n",
      "## Starting training\n",
      "epoch 000\n",
      "       accuracy: 0.1126\n"
     ]
    }
   ],
   "source": [
    "def experiment(num_features, num_classes, epochs, lr, batch_size, layer=False):\n",
    "    epoch_list = []\n",
    "    acc_list = []\n",
    "\n",
    "    if layer:\n",
    "        print('Layer = true')\n",
    "        mlp = MLP(input_size=num_features, output_size=num_classes, layer=True)\n",
    "    else:\n",
    "        mlp = MLP(input_size=num_features, output_size=num_classes, layer=False)\n",
    "    \n",
    "    n, m = xtrain.shape\n",
    "    b = batch_size\n",
    "\n",
    "    print('\\n## Starting training')\n",
    "    for epoch in range(epochs):\n",
    "        print(f'epoch {epoch:03}')\n",
    "        ## Compute validation accuracy\n",
    "        o = mlp(vg.TensorNode(xval))\n",
    "        oval = o.value\n",
    "        predictions = np.argmax(oval, axis=1)\n",
    "        num_correct = (predictions == yval).sum()\n",
    "        acc = num_correct / yval.shape[0]\n",
    "        epoch_list.append(epoch+1)\n",
    "        acc_list.append(acc)\n",
    "\n",
    "        o.clear() # gc the computation graph\n",
    "        print(f'       accuracy: {acc:.4}')\n",
    "\n",
    "        cl = 0.0 # running sum of the training loss\n",
    "        # batch loop\n",
    "        for fr in range(0, n, b):\n",
    "\n",
    "            # The end index of the batch\n",
    "            to = min(fr + b, n)\n",
    "\n",
    "            # Slice out the batch and its corresponding target values\n",
    "            batch, targets = xtrain[fr:to, :], ytrain[fr:to]\n",
    "\n",
    "            # Wrap the inputs in a Node\n",
    "            batch = vg.TensorNode(value=batch)\n",
    "            outputs = mlp(batch)\n",
    "            loss = vg.logceloss(outputs, targets)\n",
    "            cl += loss.value\n",
    "            loss.backward()\n",
    "\n",
    "            # Apply gradient descent\n",
    "            for parm in mlp.parameters():\n",
    "                parm.value -= lr * parm.grad\n",
    "            loss.zero_grad()\n",
    "            loss.clear()\n",
    "        print(f'   running loss: {cl/n:.4}')\n",
    "    return epoch_list, acc_list\n",
    "\n",
    "epochs = 20\n",
    "batch_size = 128\n",
    "lr = 0.001\n",
    "epoch_list, acc_list2 = experiment(num_features, num_classes, epochs, lr, batch_size, layer=True)\n",
    "epoch_list, acc_list = experiment(num_features, num_classes, epochs, lr, batch_size, layer=False)"
   ]
  },
  {
   "cell_type": "code",
   "execution_count": 40,
   "metadata": {},
   "outputs": [
    {
     "data": {
      "image/png": "[encoded data removed]",
      "text/plain": [
       "<Figure size 432x288 with 1 Axes>"
      ]
     },
     "metadata": {
      "needs_background": "light"
     },
     "output_type": "display_data"
    }
   ],
   "source": [
    "y1 = acc_list\n",
    "x1 = epoch_list\n",
    "plt.plot(x1, y1, label = \"1 layers\")\n",
    "y2 = acc_list2\n",
    "x2 = epoch_list\n",
    "plt.plot(x2, y2, label = \"2 layers\")\n",
    "\n",
    "plt.xlabel('Epochs')\n",
    "plt.ylabel('Accuracy')\n",
    "plt.title('Accuracy of 2 layer and 1 layer network during training epochs')\n",
    "plt.xticks(np.arange(1, 21, 1.0))\n",
    "plt.legend()\n",
    "plt.savefig('figures/Q10-newMNISTvs1layer')\n",
    "plt.show()"
   ]
  },
  {
   "cell_type": "code",
   "execution_count": null,
   "metadata": {},
   "outputs": [],
   "source": []
  },
  {
   "cell_type": "code",
   "execution_count": null,
   "metadata": {},
   "outputs": [],
   "source": []
  }
 ],
 "metadata": {
  "interpreter": {
   "hash": "31f2aee4e71d21fbe5cf8b01ff0e069b9275f58929596ceb00d14d90e3e16cd6"
  },
  "kernelspec": {
   "display_name": "Python 3.8.2 64-bit",
   "language": "python",
   "name": "python3"
  },
  "language_info": {
   "codemirror_mode": {
    "name": "ipython",
    "version": 3
   },
   "file_extension": ".py",
   "mimetype": "text/x-python",
   "name": "python",
   "nbconvert_exporter": "python",
   "pygments_lexer": "ipython3",
   "version": "3.8.2"
  },
  "orig_nbformat": 4
 },
 "nbformat": 4,
 "nbformat_minor": 2
}
