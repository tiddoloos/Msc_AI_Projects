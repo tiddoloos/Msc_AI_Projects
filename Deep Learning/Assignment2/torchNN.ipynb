{
 "cells": [
  {
   "cell_type": "code",
   "execution_count": 14,
   "metadata": {},
   "outputs": [],
   "source": [
    "%matplotlib inline"
   ]
  },
  {
   "cell_type": "code",
   "execution_count": 15,
   "metadata": {},
   "outputs": [],
   "source": [
    "import vugrad as vg\n",
    "import torch.nn as nn\n",
    "import torch.nn.functional as F\n",
    "import matplotlib.pyplot as plt\n",
    "import numpy as np\n",
    "import torch\n",
    "import torchvision\n",
    "import torchvision.transforms as transforms\n",
    "import torch.optim as optim"
   ]
  },
  {
   "cell_type": "code",
   "execution_count": 16,
   "metadata": {},
   "outputs": [],
   "source": [
    "import torch.nn as nn\n",
    "import torch.nn.functional as F\n",
    "\n",
    "\n",
    "class Net(nn.Module):\n",
    "    def __init__(self):\n",
    "        super().__init__()\n",
    "        self.conv1 = nn.Conv2d(3, 6, 5)\n",
    "        self.pool = nn.MaxPool2d(2, 2)\n",
    "        self.conv2 = nn.Conv2d(6, 16, 5)\n",
    "        self.fc1 = nn.Linear(16 * 5 * 5, 120)\n",
    "        self.fc2 = nn.Linear(120, 84)\n",
    "        self.fc3 = nn.Linear(84, 10)\n",
    "\n",
    "    def forward(self, x):\n",
    "        x = self.pool(F.relu(self.conv1(x)))\n",
    "        x = self.pool(F.relu(self.conv2(x)))\n",
    "        x = torch.flatten(x, 1) # flatten all dimensions except batch\n",
    "        x = F.relu(self.fc1(x))\n",
    "        x = F.relu(self.fc2(x))\n",
    "        x = self.fc3(x)\n",
    "        return x"
   ]
  },
  {
   "cell_type": "code",
   "execution_count": 17,
   "metadata": {},
   "outputs": [],
   "source": [
    "def experiment(net, epochs, criterion, optimizer, trainloader, testloader):\n",
    "    acc_list = []\n",
    "    loss_list = []\n",
    "    epoch_list = []\n",
    "    for epoch in range(epochs):  # loop over the dataset multiple times\n",
    "        print('...validate...')\n",
    "        epoch_list.append(epoch)\n",
    "        #validate model during the training epochs\n",
    "        acc = validate(net, testloader)\n",
    "        print(acc)\n",
    "        acc_list.append(acc)\n",
    "\n",
    "        running_loss = 0.0\n",
    "        print('...training epoch = ', epoch, '...')\n",
    "        for i, data in enumerate(trainloader, 0):\n",
    "            # get the inputs; data is a list of [inputs, labels]\n",
    "            inputs, labels = data\n",
    "\n",
    "            # zero the parameter gradients\n",
    "            optimizer.zero_grad()\n",
    "\n",
    "            # forward + backward + optimize\n",
    "            outputs = net(inputs)\n",
    "            loss = criterion(outputs, labels)\n",
    "            loss.backward()\n",
    "            optimizer.step()\n",
    "\n",
    "            # print statistics\n",
    "            running_loss += loss.item()\n",
    "            loss_list.append(running_loss)\n",
    "            if i % 2000 == 1999:    # print every 2000 mini-batches\n",
    "                print('[%d, %5d] loss: %.3f' %\n",
    "                    (epoch + 1, i + 1, running_loss / 2000))\n",
    "                running_loss = 0.0\n",
    "    print('Finished Training')\n",
    "    return acc_list, loss_list, epoch_list\n",
    "\n",
    "\n",
    "def validate(net, testloader):\n",
    "    total = 0\n",
    "    correct = 0\n",
    "    with torch.no_grad():\n",
    "        for data in testloader:\n",
    "            images, labels = data\n",
    "            # calculate outputs by running images through the network \n",
    "            outputs = net(images)\n",
    "            # the class with the highest energy is what we choose as prediction\n",
    "            _, predicted = torch.max(outputs.data, 1)\n",
    "            total += labels.size(0)\n",
    "            correct += (predicted == labels).sum().item()\n",
    "    return correct / total"
   ]
  },
  {
   "cell_type": "code",
   "execution_count": 18,
   "metadata": {},
   "outputs": [
    {
     "name": "stdout",
     "output_type": "stream",
     "text": [
      "Files already downloaded and verified\n",
      "Files already downloaded and verified\n"
     ]
    }
   ],
   "source": [
    "net = Net()\n",
    "batch_size = 100\n",
    "epochs = 50\n",
    "criterion = nn.CrossEntropyLoss()\n",
    "optimizer = optim.SGD(net.parameters(), lr=0.001, momentum=0.9)\n",
    "\n",
    "transform = transforms.Compose(\n",
    "    [transforms.ToTensor(),\n",
    "     transforms.Normalize((0.5, 0.5, 0.5), (0.5, 0.5, 0.5))])\n",
    "\n",
    "trainset = torchvision.datasets.CIFAR10(root='./data', train=True,\n",
    "                                        download=True, transform=transform)\n",
    "trainloader = torch.utils.data.DataLoader(trainset, batch_size=batch_size,\n",
    "                                          shuffle=True, num_workers=2)\n",
    "\n",
    "testset = torchvision.datasets.CIFAR10(root='./data', train=False,\n",
    "                                       download=True, transform=transform)\n",
    "testloader = torch.utils.data.DataLoader(testset, batch_size=batch_size,\n",
    "                                         shuffle=False, num_workers=2)\n",
    "\n",
    "classes = ('plane', 'car', 'bird', 'cat',\n",
    "           'deer', 'dog', 'frog', 'horse', 'ship', 'truck')"
   ]
  },
  {
   "cell_type": "code",
   "execution_count": 19,
   "metadata": {},
   "outputs": [
    {
     "name": "stdout",
     "output_type": "stream",
     "text": [
      "...validate...\n",
      "0.1033\n",
      "...training epoch =  0 ...\n",
      "...validate...\n",
      "0.1401\n",
      "...training epoch =  1 ...\n",
      "...validate...\n",
      "0.1763\n",
      "...training epoch =  2 ...\n",
      "...validate...\n",
      "0.2483\n",
      "...training epoch =  3 ...\n",
      "...validate...\n",
      "0.286\n",
      "...training epoch =  4 ...\n",
      "...validate...\n",
      "0.3335\n",
      "...training epoch =  5 ...\n",
      "...validate...\n",
      "0.3712\n",
      "...training epoch =  6 ...\n",
      "...validate...\n",
      "0.3998\n",
      "...training epoch =  7 ...\n",
      "...validate...\n",
      "0.4233\n",
      "...training epoch =  8 ...\n",
      "...validate...\n",
      "0.4425\n",
      "...training epoch =  9 ...\n",
      "...validate...\n",
      "0.4537\n",
      "...training epoch =  10 ...\n",
      "...validate...\n",
      "0.4714\n",
      "...training epoch =  11 ...\n",
      "...validate...\n",
      "0.4842\n",
      "...training epoch =  12 ...\n",
      "...validate...\n",
      "0.4995\n",
      "...training epoch =  13 ...\n",
      "...validate...\n",
      "0.5022\n",
      "...training epoch =  14 ...\n",
      "...validate...\n",
      "0.5188\n",
      "...training epoch =  15 ...\n",
      "...validate...\n",
      "0.5158\n",
      "...training epoch =  16 ...\n",
      "...validate...\n",
      "0.5232\n",
      "...training epoch =  17 ...\n",
      "...validate...\n",
      "0.5356\n",
      "...training epoch =  18 ...\n",
      "...validate...\n",
      "0.5425\n",
      "...training epoch =  19 ...\n",
      "...validate...\n",
      "0.5453\n",
      "...training epoch =  20 ...\n",
      "...validate...\n",
      "0.5562\n",
      "...training epoch =  21 ...\n",
      "...validate...\n",
      "0.5638\n",
      "...training epoch =  22 ...\n",
      "...validate...\n",
      "0.5598\n",
      "...training epoch =  23 ...\n",
      "...validate...\n",
      "0.5625\n",
      "...training epoch =  24 ...\n",
      "...validate...\n",
      "0.5744\n",
      "...training epoch =  25 ...\n",
      "...validate...\n",
      "0.5806\n",
      "...training epoch =  26 ...\n",
      "...validate...\n",
      "0.5832\n",
      "...training epoch =  27 ...\n",
      "...validate...\n",
      "0.5848\n",
      "...training epoch =  28 ...\n",
      "...validate...\n",
      "0.5862\n",
      "...training epoch =  29 ...\n",
      "...validate...\n",
      "0.6004\n",
      "...training epoch =  30 ...\n",
      "...validate...\n",
      "0.5963\n",
      "...training epoch =  31 ...\n",
      "...validate...\n",
      "0.6\n",
      "...training epoch =  32 ...\n",
      "...validate...\n",
      "0.6089\n",
      "...training epoch =  33 ...\n",
      "...validate...\n",
      "0.6079\n",
      "...training epoch =  34 ...\n"
     ]
    }
   ],
   "source": [
    "acc_list, loss_list, epoch_list = experiment(net, epochs, criterion, optimizer, trainloader, testloader)"
   ]
  },
  {
   "cell_type": "code",
   "execution_count": null,
   "metadata": {},
   "outputs": [
    {
     "name": "stdout",
     "output_type": "stream",
     "text": [
      "5000\n",
      "5000\n"
     ]
    }
   ],
   "source": [
    "print(len(loss_list))\n",
    "ep_list = []\n",
    "for i in range(len(loss_list)):\n",
    "    ep_list.append((i*(epochs/len(loss_list))))\n",
    "print(len(ep_list))"
   ]
  },
  {
   "cell_type": "code",
   "execution_count": null,
   "metadata": {},
   "outputs": [
    {
     "name": "stderr",
     "output_type": "stream",
     "text": [
      "No handles with labels found to put in legend.\n"
     ]
    },
    {
     "data": {
      "image/png": "[encoded data removed]",
      "text/plain": [
       "<Figure size 432x288 with 1 Axes>"
      ]
     },
     "metadata": {
      "needs_background": "light"
     },
     "output_type": "display_data"
    }
   ],
   "source": [
    "y1 = loss_list\n",
    "x1 = ep_list\n",
    "plt.plot(x1, y1)\n",
    "plt.xlabel('Epochs')\n",
    "plt.ylabel('Loss')\n",
    "plt.title('CE Loss during training epochs')\n",
    "plt.xticks(np.arange(1, 11, 1))\n",
    "plt.legend()\n",
    "plt.savefig('figures/Q11-CE_LOSStorchnn')\n",
    "plt.show()"
   ]
  },
  {
   "cell_type": "code",
   "execution_count": null,
   "metadata": {},
   "outputs": [],
   "source": [
    "y1 = acc_list\n",
    "x1 = epoch_list\n",
    "plt.plot(x1, y1)\n",
    "plt.xlabel('Epochs')\n",
    "plt.ylabel('Accuracy')\n",
    "plt.title('Accuracy during training epochs')\n",
    "plt.xticks(np.arange(1, 11, 1))\n",
    "plt.legend()\n",
    "plt.savefig('figures/Q11-ACC_torchnn')\n",
    "plt.show()"
   ]
  },
  {
   "cell_type": "code",
   "execution_count": null,
   "metadata": {},
   "outputs": [],
   "source": []
  }
 ],
 "metadata": {
  "interpreter": {
   "hash": "31f2aee4e71d21fbe5cf8b01ff0e069b9275f58929596ceb00d14d90e3e16cd6"
  },
  "kernelspec": {
   "display_name": "Python 3.8.2 64-bit",
   "language": "python",
   "name": "python3"
  },
  "language_info": {
   "codemirror_mode": {
    "name": "ipython",
    "version": 3
   },
   "file_extension": ".py",
   "mimetype": "text/x-python",
   "name": "python",
   "nbconvert_exporter": "python",
   "pygments_lexer": "ipython3",
   "version": "3.8.2"
  },
  "orig_nbformat": 4
 },
 "nbformat": 4,
 "nbformat_minor": 2
}
