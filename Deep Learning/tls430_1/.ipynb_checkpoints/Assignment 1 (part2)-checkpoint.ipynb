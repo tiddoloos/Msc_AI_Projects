{
 "cells": [
  {
   "cell_type": "markdown",
   "metadata": {},
   "source": [
    "# Deep Learning: Assignment 1 - Tiddo Loos - 2574974"
   ]
  },
  {
   "cell_type": "markdown",
   "metadata": {},
   "source": [
    "# part2"
   ]
  },
  {
   "cell_type": "code",
   "execution_count": 157,
   "metadata": {},
   "outputs": [],
   "source": [
    "# import numpy as np\n",
    "import matplotlib.pyplot as plt\n",
    "# import h5py\n",
    "# import scipy\n",
    "import math\n",
    "import random"
   ]
  },
  {
   "cell_type": "code",
   "execution_count": 158,
   "metadata": {},
   "outputs": [],
   "source": [
    "# -- assignment 1 --\n",
    "import numpy as np\n",
    "from urllib import request\n",
    "import gzip\n",
    "import pickle\n",
    "import os\n",
    "\n",
    "def load_synth(num_train=60_000, num_val=10_000, seed=0):\n",
    "    \"\"\"\n",
    "    Load some very basic synthetic data that should be easy to classify. Two features, so that we can plot the\n",
    "    decision boundary (which is an ellipse in the feature space).\n",
    "    :param num_train: Number of training instances\n",
    "    :param num_val: Number of test/validation instances\n",
    "    :param num_features: Number of features per instance\n",
    "    :return: Two tuples and an integer: (xtrain, ytrain), (xval, yval), num_cls. The first contains a matrix of training\n",
    "     data with 2 features as a numpy floating point array, and the corresponding classification labels as a numpy\n",
    "     integer array. The second contains the test/validation data in the same format. The last integer contains the\n",
    "     number of classes (this is always 2 for this function).\n",
    "    \"\"\"\n",
    "    np.random.seed(seed)\n",
    "\n",
    "    THRESHOLD = 0.6\n",
    "    quad = np.asarray([[1, -0.05], [1, .4]])\n",
    "\n",
    "    ntotal = num_train + num_val\n",
    "\n",
    "    x = np.random.randn(ntotal, 2)\n",
    "\n",
    "    # compute the quadratic form\n",
    "    q = np.einsum('bf, fk, bk -> b', x, quad, x)\n",
    "    y = (q > THRESHOLD).astype(np.int)\n",
    "\n",
    "    return (x[:num_train, :], y[:num_train]), (x[num_train:, :], y[num_train:]), 2\n",
    "\n",
    "def load_mnist(final=False, flatten=True):\n",
    "    \"\"\"\n",
    "    Load the MNIST data.\n",
    "    :param final: If true, return the canonical test/train split. If false, split some validation data from the training\n",
    "       data and keep the test data hidden.\n",
    "    :param flatten: If true, each instance is flattened into a vector, so that the data is returns as a matrix with 768\n",
    "        columns. If false, the data is returned as a 3-tensor preserving each image as a matrix.\n",
    "    :return: Two tuples and an integer: (xtrain, ytrain), (xval, yval), num_cls. The first contains a matrix of training\n",
    "     data and the corresponding classification labels as a numpy integer array. The second contains the test/validation\n",
    "     data in the same format. The last integer contains the number of classes (this is always 2 for this function).\n",
    "     \"\"\"\n",
    "\n",
    "    if not os.path.isfile('mnist.pkl'):\n",
    "        init()\n",
    "\n",
    "    xtrain, ytrain, xtest, ytest = load()\n",
    "    xtl, xsl = xtrain.shape[0], xtest.shape[0]\n",
    "\n",
    "    if flatten:\n",
    "        xtrain = xtrain.reshape(xtl, -1)\n",
    "        xtest  = xtest.reshape(xsl, -1)\n",
    "\n",
    "    if not final: # return the flattened images\n",
    "        return (xtrain[:-5000], ytrain[:-5000]), (xtrain[-5000:], ytrain[-5000:]), 10\n",
    "\n",
    "    return (xtrain, ytrain), (xtest, ytest), 10\n",
    "\n",
    "# Numpy-only MNIST loader. Courtesy of Hyeonseok Jung\n",
    "# https://github.com/hsjeong5/MNIST-for-Numpy\n",
    "\n",
    "filename = [\n",
    "[\"training_images\",\"train-images-idx3-ubyte.gz\"],\n",
    "[\"test_images\",\"t10k-images-idx3-ubyte.gz\"],\n",
    "[\"training_labels\",\"train-labels-idx1-ubyte.gz\"],\n",
    "[\"test_labels\",\"t10k-labels-idx1-ubyte.gz\"]\n",
    "]\n",
    "\n",
    "def download_mnist():\n",
    "    base_url = \"http://yann.lecun.com/exdb/mnist/\"\n",
    "    for name in filename:\n",
    "        print(\"Downloading \"+name[1]+\"...\")\n",
    "        request.urlretrieve(base_url+name[1], name[1])\n",
    "    print(\"Download complete.\")\n",
    "\n",
    "def save_mnist():\n",
    "    mnist = {}\n",
    "    for name in filename[:2]:\n",
    "        with gzip.open(name[1], 'rb') as f:\n",
    "            mnist[name[0]] = np.frombuffer(f.read(), np.uint8, offset=16).reshape(-1,28*28)\n",
    "    for name in filename[-2:]:\n",
    "        with gzip.open(name[1], 'rb') as f:\n",
    "            mnist[name[0]] = np.frombuffer(f.read(), np.uint8, offset=8)\n",
    "    with open(\"mnist.pkl\", 'wb') as f:\n",
    "        pickle.dump(mnist,f)\n",
    "    print(\"Save complete.\")\n",
    "\n",
    "def init():\n",
    "    download_mnist()\n",
    "    save_mnist()\n",
    "\n",
    "def load():\n",
    "    with open(\"mnist.pkl\",'rb') as f:\n",
    "        mnist = pickle.load(f)\n",
    "    return mnist[\"training_images\"], mnist[\"training_labels\"], mnist[\"test_images\"], mnist[\"test_labels\"]"
   ]
  },
  {
   "cell_type": "code",
   "execution_count": 159,
   "metadata": {},
   "outputs": [],
   "source": [
    "class NeuralNet:\n",
    "    def __init__(self, w, v, b1, b2, lr):\n",
    "        self.w = w\n",
    "        self.v = v\n",
    "        self.b1 = b1\n",
    "        self.b2 = b2\n",
    "        self.learn = lr\n",
    "        \n",
    "    def softmax(self, x):\n",
    "        exps = [math.exp(value) for value in x]\n",
    "        return [(value / sum(exps)) for value in exps]\n",
    "\n",
    "    \n",
    "    def sigmoid(self, x):\n",
    "        y = 1/(1+math.exp(-x))\n",
    "        return y\n",
    "\n",
    "    \n",
    "    def forward(self, x):\n",
    "        k = [0., 0., 0.]\n",
    "        h = [0.,0.,0.]\n",
    "        s = [0., 0.]\n",
    "        for i in range(len(k)):\n",
    "            k[i] += self.w[0][i] * x[0] + self.w[1][i] * x[1] + self.b1[i]\n",
    "        for i in range(len(k)):\n",
    "            h[i] += (self.sigmoid(k[i]))\n",
    "        for i in range(len(s)):\n",
    "            s[i] += h[0]*self.v[0][i] + h[1]*self.v[1][i] + h[2]*self.v[2][i] + self.b2[i]\n",
    "        pred = self.softmax(s)\n",
    "        return pred, k, s, h \n",
    "\n",
    "\n",
    "    def backprop(self, labels, pred, k, s, h, x):\n",
    "        dy = [0., 0.]\n",
    "        dk = [0., 0., 0.]\n",
    "        dh= [0.,0.,0.]\n",
    "        dw = [[0.,0.,0.], [0., 0., 0.]]\n",
    "        dv = [[0.,0.], [0.,0.], [0.,0.]]\n",
    "        db2 = [0, 0]\n",
    "        db1 = [0, 0, 0]\n",
    "        for i in range(len(s)):\n",
    "            dy[i] = pred[i] - labels[i]\n",
    "            for j in range(len(k)):\n",
    "                dv[j][i] = dy[i] * h[j]\n",
    "                dh[j] *= dy[i] * self.v[j][i]  \n",
    "            db2[i] = dy[i]\n",
    "        for i in range(len(h)):\n",
    "            dk[i] = dh[i] * h[i] * (1-h[i])\n",
    "        for i in range(len(x)):\n",
    "            for j in range(len(w)):\n",
    "                dw[i][j] = dk[j]*x[i]\n",
    "            db1[j]= dk[j]\n",
    "        return dw, db1, dv, db2, dk, dh\n",
    "    \n",
    "    \n",
    "    def update_weights(self, weight, update, bias = False):\n",
    "        if bias:\n",
    "            for i in range(len(weight)):\n",
    "                weight[i] = weight[i] - (self.learn * update[i])\n",
    "        else:\n",
    "            for i in range(len(weight)):\n",
    "                for j in range(len(weight[i])):\n",
    "                    weight[i][j] = weight[i][j] - (self.learn * update[i][j])\n",
    "                    \n",
    "                    \n",
    "    def loss(self, pred, label):\n",
    "        true_index = label.index(1)\n",
    "        return -math.log(pred[true_index])"
   ]
  },
  {
   "cell_type": "markdown",
   "metadata": {},
   "source": [
    "# Question 3"
   ]
  },
  {
   "cell_type": "code",
   "execution_count": 160,
   "metadata": {},
   "outputs": [
    {
     "name": "stdout",
     "output_type": "stream",
     "text": [
      "dw= [[-0.0, -0.0, 0.0], [0.0, 0.0, 0.0]] b1= [0, -0.0, 0]\n",
      "dv= [[-0.44039853898894116, 0.44039853898894116], [-0.44039853898894116, 0.44039853898894116], [-0.44039853898894116, 0.44039853898894116]] b2= [-0.5, 0.5]\n"
     ]
    }
   ],
   "source": [
    "#initialize\n",
    "w = [[1.,1.,1.], [-1., -1., -1.]]\n",
    "v = [[1.,1.], [-1.,-1.], [-1.,-1.]]\n",
    "b1 = [0.,0.,0.]\n",
    "b2 = [0.,0.]\n",
    "lr = 1.0\n",
    "\n",
    "#data\n",
    "x = [1, -1]\n",
    "labels = [1, 0]\n",
    "\n",
    "#initialize network\n",
    "nn= NeuralNet(w, v, b1, b2, lr)\n",
    "\n",
    "#one cycle\n",
    "pred, k, s, h = nn.forward(x)\n",
    "dw, db1, dv, db2, dk, dh = nn.backprop(labels, pred, k, s, h, x)\n",
    "print('dw=',dw,'b1=',db1)\n",
    "print('dv=',dv, 'b2=',db2)"
   ]
  },
  {
   "cell_type": "markdown",
   "metadata": {},
   "source": [
    "# Question 4"
   ]
  },
  {
   "cell_type": "code",
   "execution_count": 161,
   "metadata": {},
   "outputs": [],
   "source": [
    "def cycle(nn, x, labels, val = False):\n",
    "    pred, k, s, h = nn.forward(x)\n",
    "    if val == False:\n",
    "        dw, db1, dv, db2, dk, dh = nn.backprop(labels, pred, k, s, h, x)\n",
    "        nn.update_weights(nn.w, dw)\n",
    "        nn.update_weights(nn.v, dv)\n",
    "        nn.update_weights(nn.b1, db1, bias = True)\n",
    "        nn.update_weights(nn.b2, db2, bias = True)\n",
    "    loss = nn.loss(pred, labels)\n",
    "    return loss\n",
    "\n",
    "def main(nn, x, labels, epochs, val=False):\n",
    "    loss_list = []\n",
    "    epoch_list = []\n",
    "    for i in range(1, epochs+1):\n",
    "        loss = []\n",
    "        for j in range(len(x)):\n",
    "            loss.append(cycle(nn, x[j], labels[j], val))\n",
    "        loss_list.append(loss)\n",
    "        epoch_list.append(i)\n",
    "    return loss_list, epoch_list\n",
    "\n"
   ]
  },
  {
   "cell_type": "code",
   "execution_count": 167,
   "metadata": {},
   "outputs": [],
   "source": [
    "def adjust_labels(labels):\n",
    "    for i in range(len(labels)):\n",
    "        if labels[i] == 1:\n",
    "            labels[i]=[1,0]\n",
    "        else:\n",
    "            labels[i]=[0,1] \n",
    "    return labels"
   ]
  },
  {
   "cell_type": "code",
   "execution_count": 168,
   "metadata": {},
   "outputs": [],
   "source": [
    "#prep data\n",
    "(xtrain, ytrain), (xval, yval), num_cls = load_synth()\n",
    "x = xtrain.tolist()\n",
    "labels = ytrain.tolist()\n",
    "xval = xval.tolist()\n",
    "yval = yval.tolist()\n",
    "labels = adjust_labels(labels)\n",
    "yval = adjust_labels(yval)"
   ]
  },
  {
   "cell_type": "code",
   "execution_count": 174,
   "metadata": {},
   "outputs": [
    {
     "name": "stdout",
     "output_type": "stream",
     "text": [
      "training\n",
      "validating\n"
     ]
    }
   ],
   "source": [
    "#initialize weights\n",
    "w = [[random.gauss(0,1) for _ in range(3)] for _ in range(2)]\n",
    "v = [[random.gauss(0,1) for _ in range(2)] for _ in range(3)]\n",
    "b1 = [0.,0.,0.]\n",
    "b2 = [0.,0.]\n",
    "lr = 0.01\n",
    "#initialize network\n",
    "nn = NeuralNet(w, v, b1, b2, lr)\n",
    "epochs = 3\n",
    "\n",
    "print('training')\n",
    "loss_list, epoch_list = main(nn, x, labels, epochs, val=False)\n",
    "print('validating')\n",
    "loss_list_val, epoch_list = main(nn, xval, yval, epochs, val=True)"
   ]
  },
  {
   "cell_type": "code",
   "execution_count": 175,
   "metadata": {},
   "outputs": [],
   "source": [
    "def get_list_average(list):\n",
    "    list_av = []\n",
    "    for i in range(len(list)):\n",
    "        av = (sum(list[i])/len(list[i]))\n",
    "        list_av.append(av)\n",
    "    return list_av\n",
    "\n",
    "averages_training = get_list_average(loss_list)\n",
    "averages_val = get_list_average(loss_list_val)"
   ]
  },
  {
   "cell_type": "code",
   "execution_count": 176,
   "metadata": {},
   "outputs": [
    {
     "name": "stdout",
     "output_type": "stream",
     "text": [
      "3\n",
      "3\n"
     ]
    }
   ],
   "source": [
    "print(len(averages_training))\n",
    "print(len(epoch_list))"
   ]
  },
  {
   "cell_type": "code",
   "execution_count": 178,
   "metadata": {},
   "outputs": [
    {
     "data": {
      "image/png": "[encoded data removed]",
      "text/plain": [
       "<Figure size 432x288 with 1 Axes>"
      ]
     },
     "metadata": {
      "needs_background": "light"
     },
     "output_type": "display_data"
    }
   ],
   "source": [
    "# plotting cross entropy loss\n",
    "y1 = averages_training\n",
    "x1 = epoch_list\n",
    "plt.plot(x1, y1, label = \"Training\")\n",
    "plt.plot(epoch_list, averages_training)\n",
    "plt.xlabel('Epochs')\n",
    "plt.ylabel('Cross Entropy Loss')\n",
    "plt.xticks(np.arange(min(x1), max(x1)+1, 1))\n",
    "plt.title('Average Cross Entropy Loss during training epochs')\n",
    "plt.savefig('test:newQ4: Cross Entropy Loss during training epochs')\n",
    "plt.show()"
   ]
  },
  {
   "cell_type": "code",
   "execution_count": null,
   "metadata": {},
   "outputs": [],
   "source": []
  }
 ],
 "metadata": {
  "kernelspec": {
   "display_name": "Python 3",
   "language": "python",
   "name": "python3"
  },
  "language_info": {
   "codemirror_mode": {
    "name": "ipython",
    "version": 3
   },
   "file_extension": ".py",
   "mimetype": "text/x-python",
   "name": "python",
   "nbconvert_exporter": "python",
   "pygments_lexer": "ipython3",
   "version": "3.8.5"
  }
 },
 "nbformat": 4,
 "nbformat_minor": 4
}
